{
 "cells": [
  {
   "cell_type": "markdown",
   "metadata": {},
   "source": [
    "# Megaline Mobile Carrier Plan Recommendaion"
   ]
  },
  {
   "cell_type": "markdown",
   "metadata": {},
   "source": [
    "In this analysis, were going to take a dataset belonging to the Megaline Mobile Carrier and were going to analyze the current subscribers behaviors with their current plans and see if we can recommend one of the phone companies newer plans: Smart or Ultra plans. In the dataframe, the subscribers that have Ultra are 1 in the dataframe, and Smart are 0. The threshold that we will be using to calculate the accuracy of the models is 0.75. We will check the accuracy using the test data set."
   ]
  },
  {
   "cell_type": "markdown",
   "metadata": {},
   "source": [
    "### Importing All necessary Libraries for this Project"
   ]
  },
  {
   "cell_type": "code",
   "execution_count": 1,
   "metadata": {},
   "outputs": [],
   "source": [
    "import pandas as pd\n",
    "from sklearn.model_selection import train_test_split\n",
    "from sklearn.ensemble import RandomForestClassifier\n",
    "from sklearn.tree import DecisionTreeClassifier\n",
    "from sklearn.metrics import mean_squared_error\n",
    "from sklearn.metrics import accuracy_score"
   ]
  },
  {
   "cell_type": "code",
   "execution_count": 2,
   "metadata": {},
   "outputs": [],
   "source": [
    "df = pd.read_csv('/datasets/users_behavior.csv')"
   ]
  },
  {
   "cell_type": "code",
   "execution_count": 3,
   "metadata": {
    "scrolled": true
   },
   "outputs": [
    {
     "data": {
      "text/html": [
       "<div>\n",
       "<style scoped>\n",
       "    .dataframe tbody tr th:only-of-type {\n",
       "        vertical-align: middle;\n",
       "    }\n",
       "\n",
       "    .dataframe tbody tr th {\n",
       "        vertical-align: top;\n",
       "    }\n",
       "\n",
       "    .dataframe thead th {\n",
       "        text-align: right;\n",
       "    }\n",
       "</style>\n",
       "<table border=\"1\" class=\"dataframe\">\n",
       "  <thead>\n",
       "    <tr style=\"text-align: right;\">\n",
       "      <th></th>\n",
       "      <th>calls</th>\n",
       "      <th>minutes</th>\n",
       "      <th>messages</th>\n",
       "      <th>mb_used</th>\n",
       "      <th>is_ultra</th>\n",
       "    </tr>\n",
       "  </thead>\n",
       "  <tbody>\n",
       "    <tr>\n",
       "      <th>0</th>\n",
       "      <td>40.0</td>\n",
       "      <td>311.90</td>\n",
       "      <td>83.0</td>\n",
       "      <td>19915.42</td>\n",
       "      <td>0</td>\n",
       "    </tr>\n",
       "    <tr>\n",
       "      <th>1</th>\n",
       "      <td>85.0</td>\n",
       "      <td>516.75</td>\n",
       "      <td>56.0</td>\n",
       "      <td>22696.96</td>\n",
       "      <td>0</td>\n",
       "    </tr>\n",
       "    <tr>\n",
       "      <th>2</th>\n",
       "      <td>77.0</td>\n",
       "      <td>467.66</td>\n",
       "      <td>86.0</td>\n",
       "      <td>21060.45</td>\n",
       "      <td>0</td>\n",
       "    </tr>\n",
       "    <tr>\n",
       "      <th>3</th>\n",
       "      <td>106.0</td>\n",
       "      <td>745.53</td>\n",
       "      <td>81.0</td>\n",
       "      <td>8437.39</td>\n",
       "      <td>1</td>\n",
       "    </tr>\n",
       "    <tr>\n",
       "      <th>4</th>\n",
       "      <td>66.0</td>\n",
       "      <td>418.74</td>\n",
       "      <td>1.0</td>\n",
       "      <td>14502.75</td>\n",
       "      <td>0</td>\n",
       "    </tr>\n",
       "    <tr>\n",
       "      <th>...</th>\n",
       "      <td>...</td>\n",
       "      <td>...</td>\n",
       "      <td>...</td>\n",
       "      <td>...</td>\n",
       "      <td>...</td>\n",
       "    </tr>\n",
       "    <tr>\n",
       "      <th>3209</th>\n",
       "      <td>122.0</td>\n",
       "      <td>910.98</td>\n",
       "      <td>20.0</td>\n",
       "      <td>35124.90</td>\n",
       "      <td>1</td>\n",
       "    </tr>\n",
       "    <tr>\n",
       "      <th>3210</th>\n",
       "      <td>25.0</td>\n",
       "      <td>190.36</td>\n",
       "      <td>0.0</td>\n",
       "      <td>3275.61</td>\n",
       "      <td>0</td>\n",
       "    </tr>\n",
       "    <tr>\n",
       "      <th>3211</th>\n",
       "      <td>97.0</td>\n",
       "      <td>634.44</td>\n",
       "      <td>70.0</td>\n",
       "      <td>13974.06</td>\n",
       "      <td>0</td>\n",
       "    </tr>\n",
       "    <tr>\n",
       "      <th>3212</th>\n",
       "      <td>64.0</td>\n",
       "      <td>462.32</td>\n",
       "      <td>90.0</td>\n",
       "      <td>31239.78</td>\n",
       "      <td>0</td>\n",
       "    </tr>\n",
       "    <tr>\n",
       "      <th>3213</th>\n",
       "      <td>80.0</td>\n",
       "      <td>566.09</td>\n",
       "      <td>6.0</td>\n",
       "      <td>29480.52</td>\n",
       "      <td>1</td>\n",
       "    </tr>\n",
       "  </tbody>\n",
       "</table>\n",
       "<p>3214 rows × 5 columns</p>\n",
       "</div>"
      ],
      "text/plain": [
       "      calls  minutes  messages   mb_used  is_ultra\n",
       "0      40.0   311.90      83.0  19915.42         0\n",
       "1      85.0   516.75      56.0  22696.96         0\n",
       "2      77.0   467.66      86.0  21060.45         0\n",
       "3     106.0   745.53      81.0   8437.39         1\n",
       "4      66.0   418.74       1.0  14502.75         0\n",
       "...     ...      ...       ...       ...       ...\n",
       "3209  122.0   910.98      20.0  35124.90         1\n",
       "3210   25.0   190.36       0.0   3275.61         0\n",
       "3211   97.0   634.44      70.0  13974.06         0\n",
       "3212   64.0   462.32      90.0  31239.78         0\n",
       "3213   80.0   566.09       6.0  29480.52         1\n",
       "\n",
       "[3214 rows x 5 columns]"
      ]
     },
     "execution_count": 3,
     "metadata": {},
     "output_type": "execute_result"
    }
   ],
   "source": [
    "df"
   ]
  },
  {
   "cell_type": "code",
   "execution_count": 4,
   "metadata": {
    "scrolled": true
   },
   "outputs": [
    {
     "name": "stdout",
     "output_type": "stream",
     "text": [
      "<class 'pandas.core.frame.DataFrame'>\n",
      "RangeIndex: 3214 entries, 0 to 3213\n",
      "Data columns (total 5 columns):\n",
      " #   Column    Non-Null Count  Dtype  \n",
      "---  ------    --------------  -----  \n",
      " 0   calls     3214 non-null   float64\n",
      " 1   minutes   3214 non-null   float64\n",
      " 2   messages  3214 non-null   float64\n",
      " 3   mb_used   3214 non-null   float64\n",
      " 4   is_ultra  3214 non-null   int64  \n",
      "dtypes: float64(4), int64(1)\n",
      "memory usage: 125.7 KB\n"
     ]
    }
   ],
   "source": [
    "df.info()"
   ]
  },
  {
   "cell_type": "markdown",
   "metadata": {},
   "source": [
    "### Splitting the Dataframe into Training set, Validation set, and Test Set"
   ]
  },
  {
   "cell_type": "markdown",
   "metadata": {},
   "source": [
    "In the first code below, I  split the dataset into training and another set, in this case i named it \"df_temp\", which is a temporary hold for the validation and the test set, and in the second code, I used \"df_temp\" to split up my data into the validation set and the test set. In the end i used the len() function to see the lenghs of each data sets to ensure that the validation and test sets were split evenly."
   ]
  },
  {
   "cell_type": "code",
   "execution_count": 5,
   "metadata": {},
   "outputs": [],
   "source": [
    "df_train, df_temp = train_test_split(df, test_size=0.4, random_state=13)\n",
    "\n",
    "df_valid, df_test = train_test_split(df_temp, test_size=0.5, random_state=13)"
   ]
  },
  {
   "cell_type": "code",
   "execution_count": 6,
   "metadata": {
    "scrolled": true
   },
   "outputs": [
    {
     "name": "stdout",
     "output_type": "stream",
     "text": [
      "1928\n",
      "643\n",
      "643\n"
     ]
    }
   ],
   "source": [
    "print(len(df_train))\n",
    "print(len(df_valid))\n",
    "print(len(df_test))\n"
   ]
  },
  {
   "cell_type": "markdown",
   "metadata": {},
   "source": [
    "### Features and Target for Training set, Validation set, and Test Set"
   ]
  },
  {
   "cell_type": "code",
   "execution_count": 7,
   "metadata": {},
   "outputs": [],
   "source": [
    "features_train = df_train.drop(['is_ultra'], axis=1)\n",
    "target_train = df_train['is_ultra']\n",
    "features_valid = df_valid.drop(['is_ultra'], axis=1)\n",
    "target_valid = df_valid['is_ultra']\n",
    "features_test = df_test.drop(['is_ultra'], axis=1)\n",
    "target_test  = df_test['is_ultra']"
   ]
  },
  {
   "cell_type": "markdown",
   "metadata": {},
   "source": [
    "### Quality of Different Models: Decision Tree Classifier and Random Forest Classifier"
   ]
  },
  {
   "cell_type": "markdown",
   "metadata": {},
   "source": [
    "#### Decision Tree Classifier"
   ]
  },
  {
   "cell_type": "code",
   "execution_count": 8,
   "metadata": {
    "scrolled": true
   },
   "outputs": [
    {
     "name": "stdout",
     "output_type": "stream",
     "text": [
      "Validation accuracy: 0.79\n"
     ]
    }
   ],
   "source": [
    "model = DecisionTreeClassifier(random_state=13, max_depth=5)\n",
    "model.fit(features_train, target_train)  \n",
    "valid_predictions_Decision = model.predict(features_valid)  \n",
    "accuracy = accuracy_score(target_valid, valid_predictions_Decision)\n",
    "\n",
    "print(f\"Validation accuracy: {accuracy:.2f}\")\n"
   ]
  },
  {
   "cell_type": "markdown",
   "metadata": {},
   "source": [
    "The validation accuracy using the Decision Tree Classifier is 0.79. Considering our threshold is 0.75, this is a good model since we are over the threshold of .75, after hypertuning the Decision Tree model max_depth to 5 levels. If we increase the max depth by more than five, the Decision Tree Starts overfitting and the accuracy score starts to go lower."
   ]
  },
  {
   "cell_type": "markdown",
   "metadata": {},
   "source": [
    "#### Random Forest Classifier"
   ]
  },
  {
   "cell_type": "code",
   "execution_count": 9,
   "metadata": {},
   "outputs": [
    {
     "name": "stdout",
     "output_type": "stream",
     "text": [
      "Validation accuracy: 0.81 with the best number of n_estimators: 16\n"
     ]
    }
   ],
   "source": [
    "best_accuracy = 0\n",
    "best_n_estimators = 0\n",
    "\n",
    "for k in range(1, 50):\n",
    "    model_forest = RandomForestClassifier(max_depth=5, random_state=13, n_estimators=k)\n",
    "    model_forest.fit(features_train, target_train) \n",
    "    valid_predictions = model_forest.predict(features_valid) \n",
    "    accuracy = accuracy_score(target_valid, valid_predictions) \n",
    "\n",
    "    if accuracy > best_accuracy: \n",
    "        best_accuracy = accuracy \n",
    "        best_n_estimators = k  \n",
    "\n",
    "print(f\"Validation accuracy: {best_accuracy:.2f} with the best number of n_estimators: {best_n_estimators}\")"
   ]
  },
  {
   "cell_type": "markdown",
   "metadata": {},
   "source": [
    "Using the Random Forest Classifier on the Training and Validation set, our validation accuracy came out to be 0.81. A value that exceeds the the threshold. We got the highest score using the max_depth to 5, which is the highest numbers of nodes before reaching a terminal leaf node. I experimented with higher nodes and lower nodes, and the validation accuracy was lower using a higher or lower max_depth. We also used a for loop with a range of max 50, creating a total of 1225 n_estimators, or nuber of trees to be used in the forest. Since both models showed around the same accuracy score, one being .79 and the other being .80, i will use both models to see what model gives the best results."
   ]
  },
  {
   "cell_type": "markdown",
   "metadata": {},
   "source": [
    "### Test Set on Random Forest Classifier"
   ]
  },
  {
   "cell_type": "code",
   "execution_count": null,
   "metadata": {
    "scrolled": true
   },
   "outputs": [],
   "source": [
    "best_accuracy_score = 0\n",
    "best_estimator = 0\n",
    "\n",
    "for k in range(1, 50):\n",
    "    model = RandomForestClassifier(max_depth=5, random_state=13, n_estimators=k)\n",
    "    model.fit(features_train, target_train)\n",
    "    validation_prediction = model.predict(features_valid)\n",
    "    accuracy_validation = accuracy_score(target_valid, validation_prediction)\n",
    "    \n",
    "    if accuracy_validation > best_accuracy_score:\n",
    "        best_accuracy_score = accuracy_validation\n",
    "        best_estimator = k\n",
    "\n",
    "final_model = RandomForestClassifier(max_depth=5, random_state=13, n_estimators=best_estimator)\n",
    "final_model.fit(features_train.append(features_valid), target_train.append(target_valid))  \n",
    "test_prediction = final_model.predict(features_test)  \n",
    "accuracy_test = accuracy_score(target_test, test_prediction)\n",
    "\n",
    "print(f\"Final Model Test Set Accuracy: {accuracy_test:.2f} with n_estimators: {best_estimator}.\")"
   ]
  },
  {
   "cell_type": "markdown",
   "metadata": {},
   "source": [
    "After using the validation set against the test data set on a Random Forest Classifier model, the accuracy was actually lower than the test data set. I got a accuracy of 0.79 with a total number of 16 n_estimators. Lower but not too much of a difference, also being over the .75 threshold."
   ]
  },
  {
   "cell_type": "markdown",
   "metadata": {},
   "source": [
    "### Conclusion"
   ]
  },
  {
   "cell_type": "markdown",
   "metadata": {},
   "source": [
    "In this machine learning project, I used the Decision Tree Classifier and the Random Forest Classifier. After using both, i came to a conclusion that the best model to use in this data is the Random Forest Classifier. The hyperparameters that i used in that model is the \"max_depth\", n_estimators, and the \"random_state\". My accuracy score is 0.79. Using this model, you can analyze the subscribers behavior and you can recommend one of the Plans, either Ultra or Smart with an accuracy of 79%.\n"
   ]
  }
 ],
 "metadata": {
  "ExecuteTimeLog": [
   {
    "duration": 1613,
    "start_time": "2024-05-16T20:51:04.122Z"
   },
   {
    "duration": 0,
    "start_time": "2024-05-16T20:51:05.738Z"
   },
   {
    "duration": 0,
    "start_time": "2024-05-16T20:51:05.740Z"
   },
   {
    "duration": 0,
    "start_time": "2024-05-16T20:51:05.742Z"
   },
   {
    "duration": 24,
    "start_time": "2024-05-16T20:51:06.436Z"
   },
   {
    "duration": 23,
    "start_time": "2024-05-16T20:51:06.627Z"
   },
   {
    "duration": 28,
    "start_time": "2024-05-16T20:51:07.475Z"
   },
   {
    "duration": 26,
    "start_time": "2024-05-16T20:51:22.498Z"
   },
   {
    "duration": 26,
    "start_time": "2024-05-16T20:51:39.141Z"
   },
   {
    "duration": 23,
    "start_time": "2024-05-16T20:51:46.543Z"
   },
   {
    "duration": 25,
    "start_time": "2024-05-16T20:51:54.017Z"
   },
   {
    "duration": 1587,
    "start_time": "2024-05-16T20:52:00.194Z"
   },
   {
    "duration": 0,
    "start_time": "2024-05-16T20:52:01.784Z"
   },
   {
    "duration": 0,
    "start_time": "2024-05-16T20:52:01.786Z"
   },
   {
    "duration": 0,
    "start_time": "2024-05-16T20:52:01.789Z"
   },
   {
    "duration": 0,
    "start_time": "2024-05-16T20:52:01.792Z"
   },
   {
    "duration": 0,
    "start_time": "2024-05-16T20:52:01.794Z"
   },
   {
    "duration": 0,
    "start_time": "2024-05-16T20:52:01.811Z"
   },
   {
    "duration": 24,
    "start_time": "2024-05-16T20:52:04.645Z"
   },
   {
    "duration": 24,
    "start_time": "2024-05-16T20:52:09.005Z"
   },
   {
    "duration": 26,
    "start_time": "2024-05-16T20:52:09.346Z"
   },
   {
    "duration": 14,
    "start_time": "2024-05-16T20:52:09.872Z"
   },
   {
    "duration": 12,
    "start_time": "2024-05-16T20:52:13.003Z"
   },
   {
    "duration": 5,
    "start_time": "2024-05-16T20:52:15.294Z"
   },
   {
    "duration": 28,
    "start_time": "2024-05-16T20:52:18.322Z"
   },
   {
    "duration": 25,
    "start_time": "2024-05-16T20:52:53.999Z"
   },
   {
    "duration": 9,
    "start_time": "2024-05-16T20:55:40.716Z"
   },
   {
    "duration": 44,
    "start_time": "2024-05-16T20:56:33.894Z"
   },
   {
    "duration": 24,
    "start_time": "2024-05-16T20:56:45.930Z"
   },
   {
    "duration": 5,
    "start_time": "2024-05-16T20:56:54.759Z"
   },
   {
    "duration": 40,
    "start_time": "2024-05-16T20:56:58.405Z"
   },
   {
    "duration": 24,
    "start_time": "2024-05-16T20:57:12.059Z"
   },
   {
    "duration": 27,
    "start_time": "2024-05-16T20:57:34.000Z"
   },
   {
    "duration": 542,
    "start_time": "2024-05-16T20:57:40.679Z"
   },
   {
    "duration": 228,
    "start_time": "2024-05-16T20:57:54.837Z"
   },
   {
    "duration": 275,
    "start_time": "2024-05-16T20:57:59.432Z"
   },
   {
    "duration": 311,
    "start_time": "2024-05-16T20:58:02.269Z"
   },
   {
    "duration": 358,
    "start_time": "2024-05-16T20:58:05.785Z"
   },
   {
    "duration": 395,
    "start_time": "2024-05-16T20:58:14.260Z"
   },
   {
    "duration": 431,
    "start_time": "2024-05-16T20:58:18.205Z"
   },
   {
    "duration": 364,
    "start_time": "2024-05-16T20:58:22.548Z"
   },
   {
    "duration": 309,
    "start_time": "2024-05-16T20:58:26.336Z"
   },
   {
    "duration": 335,
    "start_time": "2024-05-16T20:58:29.720Z"
   },
   {
    "duration": 299,
    "start_time": "2024-05-16T20:58:34.225Z"
   },
   {
    "duration": 276,
    "start_time": "2024-05-16T20:58:37.507Z"
   },
   {
    "duration": 293,
    "start_time": "2024-05-16T20:58:40.156Z"
   },
   {
    "duration": 330,
    "start_time": "2024-05-16T20:58:43.510Z"
   },
   {
    "duration": 257,
    "start_time": "2024-05-16T20:58:49.524Z"
   },
   {
    "duration": 287,
    "start_time": "2024-05-16T20:58:51.567Z"
   },
   {
    "duration": 311,
    "start_time": "2024-05-16T20:58:57.164Z"
   },
   {
    "duration": 24,
    "start_time": "2024-05-16T21:03:01.045Z"
   },
   {
    "duration": 5,
    "start_time": "2024-05-16T21:03:15.145Z"
   },
   {
    "duration": 109,
    "start_time": "2024-05-16T21:04:05.782Z"
   },
   {
    "duration": 33,
    "start_time": "2024-05-16T21:04:13.212Z"
   },
   {
    "duration": 54,
    "start_time": "2024-05-16T21:04:44.188Z"
   },
   {
    "duration": 18,
    "start_time": "2024-05-16T21:04:50.703Z"
   },
   {
    "duration": 18,
    "start_time": "2024-05-16T22:00:21.164Z"
   },
   {
    "duration": 24,
    "start_time": "2024-05-16T22:01:23.152Z"
   },
   {
    "duration": 7,
    "start_time": "2024-05-16T22:01:46.240Z"
   },
   {
    "duration": 41,
    "start_time": "2024-05-16T22:02:17.552Z"
   },
   {
    "duration": 5,
    "start_time": "2024-05-16T22:02:36.187Z"
   },
   {
    "duration": 3734,
    "start_time": "2024-05-16T22:02:39.963Z"
   },
   {
    "duration": 13,
    "start_time": "2024-05-16T22:04:19.799Z"
   },
   {
    "duration": 13,
    "start_time": "2024-05-16T22:04:22.836Z"
   },
   {
    "duration": 218,
    "start_time": "2024-05-16T22:04:25.066Z"
   },
   {
    "duration": 15,
    "start_time": "2024-05-16T22:04:28.142Z"
   },
   {
    "duration": 7,
    "start_time": "2024-05-16T22:04:30.807Z"
   },
   {
    "duration": 25,
    "start_time": "2024-05-16T22:09:22.752Z"
   },
   {
    "duration": 348,
    "start_time": "2024-05-16T22:09:26.202Z"
   },
   {
    "duration": 24,
    "start_time": "2024-05-16T22:09:28.833Z"
   },
   {
    "duration": 330,
    "start_time": "2024-05-16T22:09:32.109Z"
   },
   {
    "duration": 23,
    "start_time": "2024-05-16T22:09:34.680Z"
   },
   {
    "duration": 24,
    "start_time": "2024-05-16T22:09:37.074Z"
   },
   {
    "duration": 8,
    "start_time": "2024-05-16T22:09:39.448Z"
   },
   {
    "duration": 5,
    "start_time": "2024-05-16T22:21:55.153Z"
   },
   {
    "duration": 10,
    "start_time": "2024-05-16T22:21:57.989Z"
   },
   {
    "duration": 13,
    "start_time": "2024-05-16T22:22:01.079Z"
   },
   {
    "duration": 7,
    "start_time": "2024-05-16T22:22:03.820Z"
   },
   {
    "duration": 4,
    "start_time": "2024-05-16T22:22:05.391Z"
   },
   {
    "duration": 8,
    "start_time": "2024-05-16T22:22:08.284Z"
   },
   {
    "duration": 235,
    "start_time": "2024-05-16T22:22:48.951Z"
   },
   {
    "duration": 23,
    "start_time": "2024-05-16T22:22:57.724Z"
   },
   {
    "duration": 73,
    "start_time": "2024-05-16T22:23:52.026Z"
   },
   {
    "duration": 22,
    "start_time": "2024-05-16T22:24:06.405Z"
   },
   {
    "duration": 24,
    "start_time": "2024-05-16T22:45:22.968Z"
   },
   {
    "duration": 29,
    "start_time": "2024-05-16T22:46:20.973Z"
   },
   {
    "duration": 30,
    "start_time": "2024-05-16T22:46:46.235Z"
   },
   {
    "duration": 247,
    "start_time": "2024-05-16T22:48:21.707Z"
   },
   {
    "duration": 536,
    "start_time": "2024-05-16T22:48:44.154Z"
   },
   {
    "duration": 313,
    "start_time": "2024-05-16T22:49:20.058Z"
   },
   {
    "duration": 204,
    "start_time": "2024-05-16T22:49:34.072Z"
   },
   {
    "duration": 222,
    "start_time": "2024-05-16T22:50:14.902Z"
   },
   {
    "duration": 235,
    "start_time": "2024-05-16T22:50:31.903Z"
   },
   {
    "duration": 283,
    "start_time": "2024-05-16T22:51:04.939Z"
   },
   {
    "duration": 256,
    "start_time": "2024-05-16T22:51:16.215Z"
   },
   {
    "duration": 222,
    "start_time": "2024-05-16T22:51:29.150Z"
   },
   {
    "duration": 253,
    "start_time": "2024-05-16T22:52:09.090Z"
   },
   {
    "duration": 219,
    "start_time": "2024-05-16T22:52:26.880Z"
   },
   {
    "duration": 227,
    "start_time": "2024-05-16T22:53:14.236Z"
   },
   {
    "duration": 6,
    "start_time": "2024-05-16T22:55:31.977Z"
   },
   {
    "duration": 7,
    "start_time": "2024-05-16T22:55:45.693Z"
   },
   {
    "duration": 24,
    "start_time": "2024-05-16T22:56:10.930Z"
   },
   {
    "duration": 20,
    "start_time": "2024-05-16T22:56:16.450Z"
   },
   {
    "duration": 7,
    "start_time": "2024-05-16T22:56:18.552Z"
   },
   {
    "duration": 23,
    "start_time": "2024-05-16T22:56:44.679Z"
   },
   {
    "duration": 7,
    "start_time": "2024-05-16T22:56:54.227Z"
   },
   {
    "duration": 126,
    "start_time": "2024-05-16T22:59:45.979Z"
   },
   {
    "duration": 124,
    "start_time": "2024-05-16T23:00:02.026Z"
   },
   {
    "duration": 103,
    "start_time": "2024-05-16T23:00:22.323Z"
   },
   {
    "duration": 82,
    "start_time": "2024-05-16T23:00:38.402Z"
   },
   {
    "duration": 90,
    "start_time": "2024-05-16T23:00:52.801Z"
   },
   {
    "duration": 116,
    "start_time": "2024-05-16T23:00:58.641Z"
   },
   {
    "duration": 134,
    "start_time": "2024-05-16T23:01:04.528Z"
   },
   {
    "duration": 23,
    "start_time": "2024-05-16T23:01:13.415Z"
   },
   {
    "duration": 22,
    "start_time": "2024-05-16T23:13:23.047Z"
   },
   {
    "duration": 5,
    "start_time": "2024-05-16T23:15:11.803Z"
   },
   {
    "duration": 5,
    "start_time": "2024-05-16T23:15:26.300Z"
   },
   {
    "duration": 6,
    "start_time": "2024-05-16T23:15:40.915Z"
   },
   {
    "duration": 256,
    "start_time": "2024-05-16T23:16:16.424Z"
   },
   {
    "duration": 228,
    "start_time": "2024-05-16T23:16:40.706Z"
   },
   {
    "duration": 15,
    "start_time": "2024-05-16T23:16:55.230Z"
   },
   {
    "duration": 16,
    "start_time": "2024-05-16T23:17:06.166Z"
   },
   {
    "duration": 16,
    "start_time": "2024-05-16T23:17:26.002Z"
   },
   {
    "duration": 22,
    "start_time": "2024-05-16T23:17:30.816Z"
   },
   {
    "duration": 8,
    "start_time": "2024-05-16T23:17:38.124Z"
   },
   {
    "duration": 8,
    "start_time": "2024-05-16T23:17:47.766Z"
   },
   {
    "duration": 7,
    "start_time": "2024-05-16T23:17:55.903Z"
   },
   {
    "duration": 24,
    "start_time": "2024-05-16T23:18:08.816Z"
   },
   {
    "duration": 5,
    "start_time": "2024-05-16T23:18:16.366Z"
   },
   {
    "duration": 8,
    "start_time": "2024-05-16T23:18:34.421Z"
   },
   {
    "duration": 10,
    "start_time": "2024-05-16T23:19:15.824Z"
   },
   {
    "duration": 8,
    "start_time": "2024-05-16T23:20:14.665Z"
   },
   {
    "duration": 29,
    "start_time": "2024-05-16T23:20:24.003Z"
   },
   {
    "duration": 8,
    "start_time": "2024-05-16T23:20:30.872Z"
   },
   {
    "duration": 23,
    "start_time": "2024-05-16T23:20:37.019Z"
   },
   {
    "duration": 9,
    "start_time": "2024-05-16T23:20:42.613Z"
   },
   {
    "duration": 23,
    "start_time": "2024-05-16T23:20:50.461Z"
   },
   {
    "duration": 9,
    "start_time": "2024-05-16T23:20:57.036Z"
   },
   {
    "duration": 8,
    "start_time": "2024-05-16T23:21:01.366Z"
   },
   {
    "duration": 8,
    "start_time": "2024-05-16T23:21:59.470Z"
   },
   {
    "duration": 27,
    "start_time": "2024-05-16T23:22:11.720Z"
   },
   {
    "duration": 7,
    "start_time": "2024-05-16T23:22:24.640Z"
   },
   {
    "duration": 7,
    "start_time": "2024-05-16T23:22:30.773Z"
   },
   {
    "duration": 8,
    "start_time": "2024-05-16T23:22:37.394Z"
   },
   {
    "duration": 8,
    "start_time": "2024-05-16T23:22:51.825Z"
   },
   {
    "duration": 30,
    "start_time": "2024-05-16T23:22:59.722Z"
   },
   {
    "duration": 7,
    "start_time": "2024-05-16T23:23:08.615Z"
   },
   {
    "duration": 6,
    "start_time": "2024-05-16T23:23:24.934Z"
   },
   {
    "duration": 6,
    "start_time": "2024-05-16T23:23:30.773Z"
   },
   {
    "duration": 6,
    "start_time": "2024-05-16T23:23:41.537Z"
   },
   {
    "duration": 35,
    "start_time": "2024-05-16T23:37:17.287Z"
   },
   {
    "duration": 23,
    "start_time": "2024-05-16T23:37:25.747Z"
   },
   {
    "duration": 36,
    "start_time": "2024-05-16T23:37:33.533Z"
   },
   {
    "duration": 330,
    "start_time": "2024-05-16T23:37:41.409Z"
   },
   {
    "duration": 224,
    "start_time": "2024-05-16T23:38:08.331Z"
   },
   {
    "duration": 238,
    "start_time": "2024-05-16T23:38:42.917Z"
   },
   {
    "duration": 311,
    "start_time": "2024-05-16T23:40:00.381Z"
   },
   {
    "duration": 23,
    "start_time": "2024-05-16T23:41:17.375Z"
   },
   {
    "duration": 311,
    "start_time": "2024-05-16T23:41:19.399Z"
   },
   {
    "duration": 309,
    "start_time": "2024-05-16T23:41:21.892Z"
   },
   {
    "duration": 226,
    "start_time": "2024-05-16T23:41:24.312Z"
   },
   {
    "duration": 1195,
    "start_time": "2024-05-16T23:41:36.797Z"
   },
   {
    "duration": 21,
    "start_time": "2024-05-16T23:41:37.996Z"
   },
   {
    "duration": 30,
    "start_time": "2024-05-16T23:41:38.020Z"
   },
   {
    "duration": 15,
    "start_time": "2024-05-16T23:41:38.054Z"
   },
   {
    "duration": 40,
    "start_time": "2024-05-16T23:41:38.074Z"
   },
   {
    "duration": 5,
    "start_time": "2024-05-16T23:41:38.117Z"
   },
   {
    "duration": 3,
    "start_time": "2024-05-16T23:41:38.126Z"
   },
   {
    "duration": 420,
    "start_time": "2024-05-16T23:41:38.136Z"
   },
   {
    "duration": 0,
    "start_time": "2024-05-16T23:41:38.560Z"
   },
   {
    "duration": 0,
    "start_time": "2024-05-16T23:41:38.563Z"
   },
   {
    "duration": 9,
    "start_time": "2024-05-16T23:42:14.945Z"
   },
   {
    "duration": 24,
    "start_time": "2024-05-16T23:42:17.180Z"
   },
   {
    "duration": 316,
    "start_time": "2024-05-16T23:42:19.775Z"
   },
   {
    "duration": 586,
    "start_time": "2024-05-16T23:42:46.504Z"
   },
   {
    "duration": 313,
    "start_time": "2024-05-16T23:43:01.964Z"
   },
   {
    "duration": 329,
    "start_time": "2024-05-16T23:43:29.415Z"
   },
   {
    "duration": 592,
    "start_time": "2024-05-16T23:43:48.860Z"
   },
   {
    "duration": 485,
    "start_time": "2024-05-16T23:44:10.833Z"
   },
   {
    "duration": 408,
    "start_time": "2024-05-16T23:44:22.957Z"
   },
   {
    "duration": 328,
    "start_time": "2024-05-16T23:44:28.533Z"
   },
   {
    "duration": 409,
    "start_time": "2024-05-16T23:44:35.967Z"
   },
   {
    "duration": 407,
    "start_time": "2024-05-16T23:44:52.147Z"
   },
   {
    "duration": 349,
    "start_time": "2024-05-16T23:44:59.106Z"
   },
   {
    "duration": 391,
    "start_time": "2024-05-16T23:45:03.263Z"
   },
   {
    "duration": 329,
    "start_time": "2024-05-16T23:45:09.703Z"
   },
   {
    "duration": 24,
    "start_time": "2024-05-16T23:52:20.091Z"
   },
   {
    "duration": 22,
    "start_time": "2024-05-16T23:53:48.561Z"
   },
   {
    "duration": 320,
    "start_time": "2024-05-16T23:53:51.350Z"
   },
   {
    "duration": 228,
    "start_time": "2024-05-16T23:53:55.689Z"
   },
   {
    "duration": 1261,
    "start_time": "2024-05-17T23:06:34.440Z"
   },
   {
    "duration": 47,
    "start_time": "2024-05-17T23:06:35.705Z"
   },
   {
    "duration": 29,
    "start_time": "2024-05-17T23:06:35.756Z"
   },
   {
    "duration": 18,
    "start_time": "2024-05-17T23:06:35.791Z"
   },
   {
    "duration": 27,
    "start_time": "2024-05-17T23:06:35.812Z"
   },
   {
    "duration": 6,
    "start_time": "2024-05-17T23:06:35.843Z"
   },
   {
    "duration": 11,
    "start_time": "2024-05-17T23:06:35.852Z"
   },
   {
    "duration": 64,
    "start_time": "2024-05-17T23:06:35.867Z"
   },
   {
    "duration": 361,
    "start_time": "2024-05-17T23:06:35.934Z"
   },
   {
    "duration": 262,
    "start_time": "2024-05-17T23:06:36.301Z"
   },
   {
    "duration": 320,
    "start_time": "2024-05-17T23:07:50.784Z"
   },
   {
    "duration": 275,
    "start_time": "2024-05-17T23:07:58.803Z"
   },
   {
    "duration": 391,
    "start_time": "2024-05-17T23:08:54.085Z"
   },
   {
    "duration": 1271,
    "start_time": "2024-05-17T23:09:05.632Z"
   },
   {
    "duration": 15,
    "start_time": "2024-05-17T23:09:06.907Z"
   },
   {
    "duration": 29,
    "start_time": "2024-05-17T23:09:06.932Z"
   },
   {
    "duration": 17,
    "start_time": "2024-05-17T23:09:06.964Z"
   },
   {
    "duration": 44,
    "start_time": "2024-05-17T23:09:06.987Z"
   },
   {
    "duration": 6,
    "start_time": "2024-05-17T23:09:07.035Z"
   },
   {
    "duration": 11,
    "start_time": "2024-05-17T23:09:07.045Z"
   },
   {
    "duration": 27,
    "start_time": "2024-05-17T23:09:07.064Z"
   },
   {
    "duration": 365,
    "start_time": "2024-05-17T23:09:07.094Z"
   },
   {
    "duration": 453,
    "start_time": "2024-05-17T23:09:07.463Z"
   },
   {
    "duration": 27,
    "start_time": "2024-05-17T23:11:16.668Z"
   },
   {
    "duration": 23,
    "start_time": "2024-05-17T23:11:46.186Z"
   },
   {
    "duration": 315,
    "start_time": "2024-05-17T23:12:21.465Z"
   },
   {
    "duration": 317,
    "start_time": "2024-05-17T23:12:25.618Z"
   },
   {
    "duration": 332,
    "start_time": "2024-05-17T23:12:35.938Z"
   },
   {
    "duration": 1377,
    "start_time": "2024-05-17T23:12:48.167Z"
   },
   {
    "duration": 14,
    "start_time": "2024-05-17T23:12:49.548Z"
   },
   {
    "duration": 27,
    "start_time": "2024-05-17T23:12:49.565Z"
   },
   {
    "duration": 47,
    "start_time": "2024-05-17T23:12:49.595Z"
   },
   {
    "duration": 10,
    "start_time": "2024-05-17T23:12:49.648Z"
   },
   {
    "duration": 6,
    "start_time": "2024-05-17T23:12:49.661Z"
   },
   {
    "duration": 10,
    "start_time": "2024-05-17T23:12:49.671Z"
   },
   {
    "duration": 70,
    "start_time": "2024-05-17T23:12:49.684Z"
   },
   {
    "duration": 386,
    "start_time": "2024-05-17T23:12:49.758Z"
   },
   {
    "duration": 438,
    "start_time": "2024-05-17T23:12:50.147Z"
   },
   {
    "duration": 590,
    "start_time": "2024-05-17T23:13:06.304Z"
   },
   {
    "duration": 391,
    "start_time": "2024-05-17T23:13:34.377Z"
   },
   {
    "duration": 320,
    "start_time": "2024-05-17T23:13:39.207Z"
   },
   {
    "duration": 353,
    "start_time": "2024-05-17T23:14:00.481Z"
   },
   {
    "duration": 333,
    "start_time": "2024-05-17T23:14:13.258Z"
   },
   {
    "duration": 31,
    "start_time": "2024-05-17T23:14:38.689Z"
   },
   {
    "duration": 24,
    "start_time": "2024-05-17T23:14:45.344Z"
   },
   {
    "duration": 23,
    "start_time": "2024-05-17T23:16:38.043Z"
   },
   {
    "duration": 317,
    "start_time": "2024-05-17T23:16:52.706Z"
   },
   {
    "duration": 315,
    "start_time": "2024-05-17T23:17:06.951Z"
   },
   {
    "duration": 337,
    "start_time": "2024-05-17T23:18:01.614Z"
   },
   {
    "duration": 62791,
    "start_time": "2024-05-17T23:27:49.102Z"
   },
   {
    "duration": 322,
    "start_time": "2024-05-17T23:29:55.809Z"
   },
   {
    "duration": 1183,
    "start_time": "2024-05-17T23:30:03.430Z"
   },
   {
    "duration": 16,
    "start_time": "2024-05-17T23:30:04.617Z"
   },
   {
    "duration": 23,
    "start_time": "2024-05-17T23:30:04.637Z"
   },
   {
    "duration": 16,
    "start_time": "2024-05-17T23:30:04.663Z"
   },
   {
    "duration": 8,
    "start_time": "2024-05-17T23:30:04.684Z"
   },
   {
    "duration": 39,
    "start_time": "2024-05-17T23:30:04.695Z"
   },
   {
    "duration": 9,
    "start_time": "2024-05-17T23:30:04.737Z"
   },
   {
    "duration": 23,
    "start_time": "2024-05-17T23:30:04.749Z"
   },
   {
    "duration": 4028,
    "start_time": "2024-05-17T23:30:04.775Z"
   },
   {
    "duration": 415,
    "start_time": "2024-05-17T23:30:08.806Z"
   },
   {
    "duration": 3963,
    "start_time": "2024-05-17T23:30:35.026Z"
   },
   {
    "duration": 191,
    "start_time": "2024-05-17T23:31:18.731Z"
   },
   {
    "duration": 3975,
    "start_time": "2024-05-17T23:31:24.416Z"
   },
   {
    "duration": 3986,
    "start_time": "2024-05-17T23:32:03.935Z"
   },
   {
    "duration": 3950,
    "start_time": "2024-05-17T23:32:43.219Z"
   },
   {
    "duration": 15,
    "start_time": "2024-05-17T23:36:49.178Z"
   },
   {
    "duration": 20,
    "start_time": "2024-05-17T23:36:56.039Z"
   },
   {
    "duration": 15,
    "start_time": "2024-05-17T23:37:00.067Z"
   },
   {
    "duration": 14,
    "start_time": "2024-05-17T23:37:03.803Z"
   },
   {
    "duration": 13,
    "start_time": "2024-05-17T23:37:07.036Z"
   },
   {
    "duration": 15,
    "start_time": "2024-05-17T23:37:09.211Z"
   },
   {
    "duration": 122,
    "start_time": "2024-05-17T23:38:24.030Z"
   },
   {
    "duration": 13,
    "start_time": "2024-05-17T23:40:21.008Z"
   },
   {
    "duration": 15,
    "start_time": "2024-05-17T23:40:26.001Z"
   },
   {
    "duration": 16,
    "start_time": "2024-05-17T23:40:29.262Z"
   },
   {
    "duration": 15,
    "start_time": "2024-05-17T23:40:31.503Z"
   },
   {
    "duration": 14,
    "start_time": "2024-05-17T23:40:33.968Z"
   },
   {
    "duration": 16,
    "start_time": "2024-05-17T23:42:29.619Z"
   },
   {
    "duration": 16,
    "start_time": "2024-05-17T23:42:31.970Z"
   },
   {
    "duration": 15,
    "start_time": "2024-05-17T23:42:34.704Z"
   },
   {
    "duration": 40,
    "start_time": "2024-05-17T23:43:35.024Z"
   },
   {
    "duration": 16,
    "start_time": "2024-05-17T23:43:42.061Z"
   },
   {
    "duration": 4007,
    "start_time": "2024-05-17T23:46:08.743Z"
   },
   {
    "duration": 321,
    "start_time": "2024-05-17T23:47:12.688Z"
   },
   {
    "duration": 638,
    "start_time": "2024-05-17T23:47:54.252Z"
   },
   {
    "duration": 332,
    "start_time": "2024-05-17T23:48:12.778Z"
   },
   {
    "duration": 478,
    "start_time": "2024-05-17T23:49:05.717Z"
   },
   {
    "duration": 373,
    "start_time": "2024-05-17T23:49:22.338Z"
   },
   {
    "duration": 361,
    "start_time": "2024-05-17T23:49:57.902Z"
   },
   {
    "duration": 351,
    "start_time": "2024-05-17T23:50:11.228Z"
   },
   {
    "duration": 330,
    "start_time": "2024-05-17T23:51:02.910Z"
   },
   {
    "duration": 15103,
    "start_time": "2024-05-17T23:51:59.581Z"
   },
   {
    "duration": 4288,
    "start_time": "2024-05-17T23:52:45.870Z"
   },
   {
    "duration": 4206,
    "start_time": "2024-05-17T23:52:54.716Z"
   },
   {
    "duration": 4162,
    "start_time": "2024-05-17T23:53:22.243Z"
   },
   {
    "duration": 39,
    "start_time": "2024-05-18T00:03:45.695Z"
   },
   {
    "duration": 37,
    "start_time": "2024-05-18T00:04:01.369Z"
   },
   {
    "duration": 16,
    "start_time": "2024-05-18T00:04:08.163Z"
   },
   {
    "duration": 4316,
    "start_time": "2024-05-18T00:42:51.528Z"
   },
   {
    "duration": 5083,
    "start_time": "2024-05-18T00:43:21.615Z"
   },
   {
    "duration": 332,
    "start_time": "2024-05-18T00:44:52.490Z"
   },
   {
    "duration": 1181,
    "start_time": "2024-05-18T00:45:04.369Z"
   },
   {
    "duration": 13,
    "start_time": "2024-05-18T00:45:05.554Z"
   },
   {
    "duration": 23,
    "start_time": "2024-05-18T00:45:05.570Z"
   },
   {
    "duration": 43,
    "start_time": "2024-05-18T00:45:05.596Z"
   },
   {
    "duration": 9,
    "start_time": "2024-05-18T00:45:05.645Z"
   },
   {
    "duration": 6,
    "start_time": "2024-05-18T00:45:05.659Z"
   },
   {
    "duration": 13,
    "start_time": "2024-05-18T00:45:05.674Z"
   },
   {
    "duration": 54,
    "start_time": "2024-05-18T00:45:05.691Z"
   },
   {
    "duration": 3956,
    "start_time": "2024-05-18T00:45:05.751Z"
   },
   {
    "duration": 4698,
    "start_time": "2024-05-18T00:45:09.710Z"
   },
   {
    "duration": 4189,
    "start_time": "2024-05-18T00:45:26.323Z"
   },
   {
    "duration": 8,
    "start_time": "2024-05-18T00:45:58.695Z"
   },
   {
    "duration": 4258,
    "start_time": "2024-05-18T00:46:04.585Z"
   },
   {
    "duration": 4170,
    "start_time": "2024-05-18T00:46:13.161Z"
   },
   {
    "duration": 7,
    "start_time": "2024-05-18T00:46:25.489Z"
   },
   {
    "duration": 4260,
    "start_time": "2024-05-18T00:46:29.274Z"
   },
   {
    "duration": 16,
    "start_time": "2024-05-18T00:50:07.706Z"
   },
   {
    "duration": 15,
    "start_time": "2024-05-18T00:50:32.415Z"
   },
   {
    "duration": 1203,
    "start_time": "2024-05-18T00:50:40.059Z"
   },
   {
    "duration": 11,
    "start_time": "2024-05-18T00:50:41.265Z"
   },
   {
    "duration": 23,
    "start_time": "2024-05-18T00:50:41.279Z"
   },
   {
    "duration": 37,
    "start_time": "2024-05-18T00:50:41.306Z"
   },
   {
    "duration": 10,
    "start_time": "2024-05-18T00:50:41.346Z"
   },
   {
    "duration": 5,
    "start_time": "2024-05-18T00:50:41.362Z"
   },
   {
    "duration": 8,
    "start_time": "2024-05-18T00:50:41.371Z"
   },
   {
    "duration": 55,
    "start_time": "2024-05-18T00:50:41.385Z"
   },
   {
    "duration": 4090,
    "start_time": "2024-05-18T00:50:41.443Z"
   },
   {
    "duration": 4235,
    "start_time": "2024-05-18T00:50:45.538Z"
   },
   {
    "duration": 15,
    "start_time": "2024-05-18T00:50:49.776Z"
   },
   {
    "duration": 7,
    "start_time": "2024-05-18T00:51:15.974Z"
   },
   {
    "duration": 6,
    "start_time": "2024-05-18T00:51:18.987Z"
   },
   {
    "duration": 7,
    "start_time": "2024-05-18T00:52:03.728Z"
   },
   {
    "duration": 4253,
    "start_time": "2024-05-18T00:52:09.644Z"
   },
   {
    "duration": 206,
    "start_time": "2024-05-18T00:53:48.605Z"
   },
   {
    "duration": 64615,
    "start_time": "2024-05-18T00:53:56.660Z"
   },
   {
    "duration": 15,
    "start_time": "2024-05-18T00:57:38.566Z"
   },
   {
    "duration": 15,
    "start_time": "2024-05-18T00:58:08.085Z"
   },
   {
    "duration": 15,
    "start_time": "2024-05-18T00:58:22.068Z"
   },
   {
    "duration": 1199,
    "start_time": "2024-05-18T00:58:31.683Z"
   },
   {
    "duration": 11,
    "start_time": "2024-05-18T00:58:32.885Z"
   },
   {
    "duration": 41,
    "start_time": "2024-05-18T00:58:32.899Z"
   },
   {
    "duration": 15,
    "start_time": "2024-05-18T00:58:32.943Z"
   },
   {
    "duration": 10,
    "start_time": "2024-05-18T00:58:32.963Z"
   },
   {
    "duration": 4,
    "start_time": "2024-05-18T00:58:32.977Z"
   },
   {
    "duration": 50,
    "start_time": "2024-05-18T00:58:32.984Z"
   },
   {
    "duration": 19,
    "start_time": "2024-05-18T00:58:33.037Z"
   },
   {
    "duration": 4004,
    "start_time": "2024-05-18T00:58:33.059Z"
   },
   {
    "duration": 1159,
    "start_time": "2024-05-18T00:59:40.674Z"
   },
   {
    "duration": 12,
    "start_time": "2024-05-18T00:59:41.837Z"
   },
   {
    "duration": 24,
    "start_time": "2024-05-18T00:59:41.852Z"
   },
   {
    "duration": 15,
    "start_time": "2024-05-18T00:59:41.879Z"
   },
   {
    "duration": 9,
    "start_time": "2024-05-18T00:59:41.932Z"
   },
   {
    "duration": 4,
    "start_time": "2024-05-18T00:59:41.944Z"
   },
   {
    "duration": 9,
    "start_time": "2024-05-18T00:59:41.951Z"
   },
   {
    "duration": 20,
    "start_time": "2024-05-18T00:59:41.963Z"
   },
   {
    "duration": 4082,
    "start_time": "2024-05-18T00:59:41.985Z"
   },
   {
    "duration": 4175,
    "start_time": "2024-05-18T00:59:46.070Z"
   },
   {
    "duration": 18,
    "start_time": "2024-05-18T00:59:50.248Z"
   },
   {
    "duration": 331,
    "start_time": "2024-05-18T18:46:09.593Z"
   },
   {
    "duration": 1187,
    "start_time": "2024-05-18T18:46:17.182Z"
   },
   {
    "duration": 17,
    "start_time": "2024-05-18T18:46:18.373Z"
   },
   {
    "duration": 31,
    "start_time": "2024-05-18T18:46:18.393Z"
   },
   {
    "duration": 15,
    "start_time": "2024-05-18T18:46:18.427Z"
   },
   {
    "duration": 8,
    "start_time": "2024-05-18T18:46:18.446Z"
   },
   {
    "duration": 5,
    "start_time": "2024-05-18T18:46:18.457Z"
   },
   {
    "duration": 48,
    "start_time": "2024-05-18T18:46:18.465Z"
   },
   {
    "duration": 22,
    "start_time": "2024-05-18T18:46:18.515Z"
   },
   {
    "duration": 4007,
    "start_time": "2024-05-18T18:46:18.540Z"
   },
   {
    "duration": 4210,
    "start_time": "2024-05-18T18:46:22.550Z"
   },
   {
    "duration": 15,
    "start_time": "2024-05-18T18:46:26.764Z"
   },
   {
    "duration": 3973,
    "start_time": "2024-05-18T18:48:08.742Z"
   },
   {
    "duration": 11,
    "start_time": "2024-05-18T18:52:50.686Z"
   },
   {
    "duration": 4214,
    "start_time": "2024-05-18T18:53:00.901Z"
   },
   {
    "duration": 4199,
    "start_time": "2024-05-18T18:57:06.286Z"
   },
   {
    "duration": 4014,
    "start_time": "2024-05-18T18:59:27.192Z"
   },
   {
    "duration": 4310,
    "start_time": "2024-05-18T19:02:43.970Z"
   },
   {
    "duration": 336,
    "start_time": "2024-05-19T01:35:37.688Z"
   },
   {
    "duration": 1330,
    "start_time": "2024-05-19T01:35:43.706Z"
   },
   {
    "duration": 18,
    "start_time": "2024-05-19T01:35:45.039Z"
   },
   {
    "duration": 24,
    "start_time": "2024-05-19T01:35:45.060Z"
   },
   {
    "duration": 17,
    "start_time": "2024-05-19T01:35:45.086Z"
   },
   {
    "duration": 9,
    "start_time": "2024-05-19T01:35:45.107Z"
   },
   {
    "duration": 5,
    "start_time": "2024-05-19T01:35:45.119Z"
   },
   {
    "duration": 9,
    "start_time": "2024-05-19T01:35:45.127Z"
   },
   {
    "duration": 63,
    "start_time": "2024-05-19T01:35:45.139Z"
   },
   {
    "duration": 4020,
    "start_time": "2024-05-19T01:35:45.204Z"
   },
   {
    "duration": 4584,
    "start_time": "2024-05-19T01:35:49.227Z"
   },
   {
    "duration": 4273,
    "start_time": "2024-05-19T01:36:04.571Z"
   },
   {
    "duration": 4318,
    "start_time": "2024-05-19T01:36:20.758Z"
   },
   {
    "duration": 4048,
    "start_time": "2024-05-19T01:36:56.399Z"
   },
   {
    "duration": 3935,
    "start_time": "2024-05-19T01:40:00.220Z"
   },
   {
    "duration": 4110,
    "start_time": "2024-05-19T01:41:31.672Z"
   },
   {
    "duration": 4075,
    "start_time": "2024-05-19T01:43:22.805Z"
   },
   {
    "duration": 4114,
    "start_time": "2024-05-19T01:45:55.687Z"
   },
   {
    "duration": 1264,
    "start_time": "2024-05-19T01:46:07.188Z"
   },
   {
    "duration": 13,
    "start_time": "2024-05-19T01:46:08.455Z"
   },
   {
    "duration": 35,
    "start_time": "2024-05-19T01:46:08.471Z"
   },
   {
    "duration": 15,
    "start_time": "2024-05-19T01:46:08.511Z"
   },
   {
    "duration": 8,
    "start_time": "2024-05-19T01:46:08.529Z"
   },
   {
    "duration": 6,
    "start_time": "2024-05-19T01:46:08.540Z"
   },
   {
    "duration": 52,
    "start_time": "2024-05-19T01:46:08.549Z"
   },
   {
    "duration": 16,
    "start_time": "2024-05-19T01:46:08.605Z"
   },
   {
    "duration": 4044,
    "start_time": "2024-05-19T01:46:08.624Z"
   },
   {
    "duration": 4037,
    "start_time": "2024-05-19T01:46:12.676Z"
   },
   {
    "duration": 1315,
    "start_time": "2024-05-19T22:04:20.222Z"
   },
   {
    "duration": 20,
    "start_time": "2024-05-19T22:04:21.543Z"
   },
   {
    "duration": 33,
    "start_time": "2024-05-19T22:04:21.566Z"
   },
   {
    "duration": 47,
    "start_time": "2024-05-19T22:04:21.603Z"
   },
   {
    "duration": 9,
    "start_time": "2024-05-19T22:04:21.655Z"
   },
   {
    "duration": 5,
    "start_time": "2024-05-19T22:04:21.666Z"
   },
   {
    "duration": 10,
    "start_time": "2024-05-19T22:04:21.675Z"
   },
   {
    "duration": 16,
    "start_time": "2024-05-19T22:04:21.730Z"
   },
   {
    "duration": 4310,
    "start_time": "2024-05-19T22:04:21.749Z"
   },
   {
    "duration": 4214,
    "start_time": "2024-05-19T22:04:26.062Z"
   },
   {
    "duration": 1295,
    "start_time": "2024-05-19T22:08:51.841Z"
   },
   {
    "duration": 13,
    "start_time": "2024-05-19T22:08:53.140Z"
   },
   {
    "duration": 26,
    "start_time": "2024-05-19T22:08:53.156Z"
   },
   {
    "duration": 53,
    "start_time": "2024-05-19T22:08:53.187Z"
   },
   {
    "duration": 10,
    "start_time": "2024-05-19T22:08:53.244Z"
   },
   {
    "duration": 6,
    "start_time": "2024-05-19T22:08:53.257Z"
   },
   {
    "duration": 11,
    "start_time": "2024-05-19T22:08:53.267Z"
   },
   {
    "duration": 62,
    "start_time": "2024-05-19T22:08:53.281Z"
   },
   {
    "duration": 4220,
    "start_time": "2024-05-19T22:08:53.347Z"
   }
  ],
  "kernelspec": {
   "display_name": "Python 3 (ipykernel)",
   "language": "python",
   "name": "python3"
  },
  "language_info": {
   "codemirror_mode": {
    "name": "ipython",
    "version": 3
   },
   "file_extension": ".py",
   "mimetype": "text/x-python",
   "name": "python",
   "nbconvert_exporter": "python",
   "pygments_lexer": "ipython3",
   "version": "3.9.19"
  },
  "toc": {
   "base_numbering": 1,
   "nav_menu": {},
   "number_sections": true,
   "sideBar": true,
   "skip_h1_title": true,
   "title_cell": "Table of Contents",
   "title_sidebar": "Contents",
   "toc_cell": false,
   "toc_position": {},
   "toc_section_display": true,
   "toc_window_display": false
  }
 },
 "nbformat": 4,
 "nbformat_minor": 2
}
